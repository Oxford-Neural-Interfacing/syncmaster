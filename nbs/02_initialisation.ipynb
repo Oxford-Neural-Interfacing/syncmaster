{
 "cells": [
  {
   "cell_type": "markdown",
   "metadata": {},
   "source": [
    "# Initialisation\n",
    "\n",
    "> Setting up the device to synchronise systems"
   ]
  },
  {
   "cell_type": "code",
   "execution_count": null,
   "metadata": {},
   "outputs": [],
   "source": [
    "#| default_exp device"
   ]
  },
  {
   "cell_type": "code",
   "execution_count": null,
   "metadata": {},
   "outputs": [],
   "source": [
    "#| hide\n",
    "from nbdev.showdoc import *\n",
    "\n",
    "# Import required libraries\n",
    "import serial\n",
    "import serial.tools.list_ports\n",
    "import time"
   ]
  },
  {
   "cell_type": "markdown",
   "metadata": {},
   "source": [
    "The software drivers provide a simple interface to communicate with the device in order to send event signals from behavioural tasks to synchronise with recorded data."
   ]
  },
  {
   "cell_type": "markdown",
   "metadata": {},
   "source": [
    "## Importing the drivers\n",
    "Once installed, the drivers can be imported into the task script like any package."
   ]
  },
  {
   "cell_type": "code",
   "execution_count": null,
   "metadata": {},
   "outputs": [],
   "source": [
    "# Import driver package\n",
    "import syncmaster"
   ]
  },
  {
   "cell_type": "markdown",
   "metadata": {},
   "source": [
    "All contents of the driver package can then be accessed using the prefix `syncmaster.`, i.e. the `SyncMaster` object is accessed using `syncmaster.SyncMaster()`.\n",
    "\n",
    "Alternatively, all contents of the package can be imported directly into the present script's namespace:"
   ]
  },
  {
   "cell_type": "code",
   "execution_count": null,
   "metadata": {},
   "outputs": [],
   "source": [
    "# Import all package contents into current namespace\n",
    "from syncmaster import *"
   ]
  },
  {
   "cell_type": "markdown",
   "metadata": {},
   "source": [
    "Package contents can then be accessed using their names directly without the need for a prefix, i.e. `SyncMaster()`.\n",
    "\n",
    "While slightly more convenient, this runs the risk of colliding with function and object names imported from other packages, so we recommend using the package prefix where possible."
   ]
  },
  {
   "cell_type": "markdown",
   "metadata": {},
   "source": [
    "## Creating the device object\n",
    "The software communicates with the device hardware using a software object. All device commands are controlled using this object."
   ]
  },
  {
   "cell_type": "code",
   "execution_count": null,
   "metadata": {},
   "outputs": [],
   "source": [
    "#| export\n",
    "'''\n",
    "    SyncMaster device drivers\n",
    "\n",
    "    Oxford Neural Interfacing\n",
    "    Written by Conor Keogh\n",
    "    conor.keogh@nds.ox.ac.uk\n",
    "    16/04/2023\n",
    "\n",
    "    Provides functions for interacting with SyncMaster device\n",
    "'''\n",
    "\n",
    "'''\n",
    "SyncMaster device class\n",
    "Provide functions to interact with device\n",
    "Finds device and confirms presence\n",
    "Sends messages to trigger device\n",
    "'''\n",
    "import serial\n",
    "import serial.tools.list_ports\n",
    "import time\n",
    "\n",
    "class SyncMaster:\n",
    "\n",
    "    def __init__(self):\n",
    "        '''\n",
    "        Device object for controlling synchronisation\n",
    "        '''\n",
    "\n",
    "        '''\n",
    "        Define constants for device configuration\n",
    "        '''\n",
    "        # Define messages\n",
    "        self.GREETING = b'<best wishes>'\n",
    "        self.RESPONSE = b'warmest regards'\n",
    "        self.startMarker = '<'\n",
    "        self.endMarker = '>'\n",
    "    \n",
    "        # Define trigger pulse widths (val*10, milliseconds)\n",
    "        self.STARTPULSE = 5 # 50ms\n",
    "        self.ENDPULSE = 10 # 100ms\n",
    "        self.EVENT1PULSE = 15 # 150ms\n",
    "        self.EVENT2PULSE = 20 # 200ms\n",
    "    \n",
    "        # Define COM port settings\n",
    "        self.BAUDRATE = 115200\n",
    "        \n",
    "        # Get all serial ports\n",
    "        ports = serial.tools.list_ports.comports()\n",
    "\n",
    "        # For each port: try accessing and checking for acknowledge message\n",
    "        port_found = False\n",
    "        for port in ports:\n",
    "            try:\n",
    "                # Connect to serial port\n",
    "                self.ser = serial.Serial(port.device, self.BAUDRATE, timeout=1, write_timeout=1)\n",
    "\n",
    "                # Send test message and read response; repeat 3 times and keep third\n",
    "                for _ in range(3):\n",
    "                    self.sendMessage(self.HOST_MESSAGE)\n",
    "                    response = self.ser.readline()\n",
    "\n",
    "                # Check if response is appropriate\n",
    "                if response.decode().strip() == self.RESPONSE:\n",
    "                    self.target_port = port.device\n",
    "                    port_found = True\n",
    "\n",
    "                # Close port\n",
    "                self.ser.close()\n",
    "\n",
    "            except Exception as e:\n",
    "                # Do nothing - just ignore failed ports\n",
    "                pass\n",
    "\n",
    "        # If port found: connect to port\n",
    "        if port_found:\n",
    "            self.ser = serial.Serial(self.target_port, self.BAUDRATE, timeout=5)\n",
    "\n",
    "        # If port not found: raise error\n",
    "        else:\n",
    "            raise Exception(\"Device not found\")\n",
    "#            print(\"Device not found\")\n",
    "\n",
    "    ''' Send required messages over serial '''\n",
    "\n",
    "    def start(self):\n",
    "        ''' Send start signal '''\n",
    "        self.sendMessage(self.STARTMARKER)\n",
    "\n",
    "    def end(self):\n",
    "        ''' Send end signal '''\n",
    "        self.sendMessage(self.ENDMARKER)\n",
    "\n",
    "    def event1(self):\n",
    "        ''' Send event 1 signal '''\n",
    "        self.sendMessage(self.EVENT1)\n",
    "\n",
    "    def event2(self):\n",
    "        ''' Send event 2 signal '''\n",
    "        self.sendMessage(self.EVENT2)\n",
    "        \n",
    "    def event(self, eventID):\n",
    "        ''' Create event marker '''\n",
    "        self.sendMessage(eventID)\n",
    "\n",
    "    # Send message via serial port\n",
    "    def sendMessage(self, message):\n",
    "        '''\n",
    "        Send message over serial port\n",
    "        Takes message to send\n",
    "        '''\n",
    "        message_prepared = self.startMarker + str(message) + self.endMarker\n",
    "        self.ser.write(message_prepared.encode())\n",
    "\n",
    "    # Close channel\n",
    "    def close(self):\n",
    "        '''\n",
    "        Closes device connection\n",
    "        '''\n",
    "        self.ser.close()\n",
    "        \n",
    "    # Send test signal\n",
    "    def testSignal(self):\n",
    "        '''\n",
    "        Sends test pulses over output port once per second for five seconds\n",
    "        '''\n",
    "        for _ in range(5):\n",
    "            self.start()\n",
    "            time.sleep(1)"
   ]
  },
  {
   "cell_type": "markdown",
   "metadata": {},
   "source": [
    "In order to use the device in a task script, we must first create the device object. This should be done once at the beginning of the script."
   ]
  },
  {
   "cell_type": "code",
   "execution_count": null,
   "metadata": {},
   "outputs": [],
   "source": [
    "#|eval: false\n",
    "# Create device object\n",
    "device = syncmaster.SyncMaster()"
   ]
  },
  {
   "cell_type": "markdown",
   "metadata": {},
   "source": [
    "This automatically carries out all initialisation procedures, including locating the device on the host system and ensuring the device is communicating correctly.\n",
    "\n",
    "Note that an error will be produced on attempting to create the device object if the device is not connected to the host system.\n",
    "\n",
    "Once the device has been initialised once in this way, it is ready to send event signals to the recording system as outlined in the `triggering` section."
   ]
  },
  {
   "cell_type": "markdown",
   "metadata": {},
   "source": [
    "## Shutting down the device\n",
    "On completing the task, the communicating channel between the host system and the device should be shut down."
   ]
  },
  {
   "cell_type": "code",
   "execution_count": null,
   "metadata": {},
   "outputs": [],
   "source": [
    "show_doc(SyncMaster.close)"
   ]
  },
  {
   "cell_type": "markdown",
   "metadata": {},
   "source": [
    "The device should be shut down using the `close` command at the end of the task. "
   ]
  },
  {
   "cell_type": "code",
   "execution_count": null,
   "metadata": {},
   "outputs": [],
   "source": [
    "#|eval: false\n",
    "# Close device\n",
    "device.close()"
   ]
  },
  {
   "cell_type": "markdown",
   "metadata": {},
   "source": [
    "It can then be disconnected from the host system.\n",
    "\n",
    "This ensures that all communications ports are closed correctly to avoid any errors."
   ]
  },
  {
   "cell_type": "code",
   "execution_count": null,
   "metadata": {},
   "outputs": [],
   "source": [
    "#| hide\n",
    "import nbdev; nbdev.nbdev_export()"
   ]
  }
 ],
 "metadata": {
  "kernelspec": {
   "display_name": "syncmaster",
   "language": "python",
   "name": "syncmaster"
  }
 },
 "nbformat": 4,
 "nbformat_minor": 4
}

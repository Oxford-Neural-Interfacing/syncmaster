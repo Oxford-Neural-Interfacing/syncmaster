{
 "cells": [
  {
   "cell_type": "markdown",
   "metadata": {},
   "source": [
    "# Analysis\n",
    "\n",
    "> Fill in a module description here"
   ]
  },
  {
   "cell_type": "code",
   "execution_count": 1,
   "metadata": {},
   "outputs": [],
   "source": [
    "#| default_exp analysis"
   ]
  },
  {
   "cell_type": "code",
   "execution_count": 2,
   "metadata": {},
   "outputs": [],
   "source": [
    "#| hide\n",
    "from nbdev.showdoc import *\n",
    "import numpy as np\n",
    "from matplotlib import pyplot as plt\n",
    "import seaborn as sns\n",
    "\n",
    "# Define style\n",
    "sns.set()\n",
    "sns.set_context('talk')\n",
    "sns.set_style('ticks')"
   ]
  },
  {
   "cell_type": "code",
   "execution_count": null,
   "metadata": {},
   "outputs": [],
   "source": [
    "#| export\n",
    "# Process data\n",
    "def getEvents(data, samplerate):\n",
    "    '''\n",
    "    Recover event timings\n",
    "    Args:\n",
    "        data: 1d array containing event signals recorded at each timepoint\n",
    "        samplerate: samplerate of recording (Hz)\n",
    "    Returns:\n",
    "        events: 4 x t array with event onset IDs; 1 at timepoint where event starts\n",
    "    '''\n",
    "    \n",
    "    # Define pulse lengths (ms)\n",
    "    STARTPULSE = 50\n",
    "    ENDPULSE = 100\n",
    "    EVENT1PULSE = 150\n",
    "    EVENT2PULSE = 200\n",
    "    \n",
    "    # Create empty array - 4 x t\n",
    "    events = np.zeros((4, len(data)))\n",
    "    \n",
    "    # Define threshold - 0.75x max value (digital signal)\n",
    "    threshold = 0.75 * np.max(data)\n",
    "    \n",
    "    # Define cutoffs - number of samples, set at midpoint between event types\n",
    "    event2_cutoff = (175 / 1000) * samplerate\n",
    "    event1_cutoff = (125 / 1000) * samplerate\n",
    "    end_cutoff = (75 / 1000) * samplerate\n",
    "    start_cutoff = (25 / 1000) * samplerate\n",
    "    \n",
    "    # Loop over points in data array\n",
    "    idx = 0\n",
    "    while idx < len(data):\n",
    "        # Get current datapoint\n",
    "        d = data[idx]\n",
    "        \n",
    "        # If point > threshold: find next point below threshold\n",
    "        if d > threshold:\n",
    "            # Reset state\n",
    "            window = 1\n",
    "            end_found = False\n",
    "            \n",
    "            # Continue until value drops below threshold or data ends\n",
    "            while(idx + window <= len(data) and end_found == False):\n",
    "                # Check if dropped below threshold\n",
    "                if data[idx + window] < threshold:\n",
    "                    end_found = True\n",
    "                \n",
    "                window += 1\n",
    "                \n",
    "            # If end found: assign to event type\n",
    "            if end_found:\n",
    "                if window > event2_cutoff:\n",
    "                    events[3, idx] = 1\n",
    "                elif window > event1_cutoff:\n",
    "                    events[2, idx] = 1\n",
    "                elif window > end_cutoff:\n",
    "                    events[1, idx] = 1\n",
    "                elif window > start_cutoff:\n",
    "                    events[0, idx] = 1\n",
    "                    \n",
    "                # Move current point to end of window\n",
    "                idx = idx + window\n",
    "            \n",
    "        # Move to next datapoint\n",
    "        idx += 1\n",
    "        \n",
    "    # Return events list\n",
    "    return events"
   ]
  },
  {
   "cell_type": "code",
   "execution_count": null,
   "metadata": {},
   "outputs": [],
   "source": [
    "#| hide\n",
    "import nbdev; nbdev.nbdev_export()"
   ]
  }
 ],
 "metadata": {
  "kernelspec": {
   "display_name": "syncmaster",
   "language": "python",
   "name": "syncmaster"
  },
  "language_info": {
   "codemirror_mode": {
    "name": "ipython",
    "version": 3
   },
   "file_extension": ".py",
   "mimetype": "text/x-python",
   "name": "python",
   "nbconvert_exporter": "python",
   "pygments_lexer": "ipython3",
   "version": "3.11.2"
  }
 },
 "nbformat": 4,
 "nbformat_minor": 4
}
